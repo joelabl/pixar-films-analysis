{
 "cells": [
  {
   "cell_type": "markdown",
   "id": "b703e2e5-8f29-4e8a-9832-bf8533a4c32c",
   "metadata": {},
   "source": [
    "# Pixar Films Exploration"
   ]
  },
  {
   "cell_type": "markdown",
   "id": "384ab338-6486-4e75-9898-fb9eb6114885",
   "metadata": {},
   "source": [
    "## Imports and Settings"
   ]
  },
  {
   "cell_type": "code",
   "execution_count": null,
   "id": "d9ca7b23-0d48-4129-ae3a-21c23bcfb353",
   "metadata": {},
   "outputs": [],
   "source": [
    "# Helper libraries\n",
    "import warnings\n",
    "\n",
    "# Scientific and visual libraries\n",
    "import numpy as np\n",
    "import pandas as pd\n",
    "import matplotlib.pyplot as plt\n",
    "import seaborn as sns\n",
    "import plotly.graph_objects as go\n",
    "from plotly.subplots import make_subplots\n",
    "import missingno as msno\n",
    "\n",
    "%load_ext autoreload\n",
    "%autoreload 2\n",
    "\n",
    "%matplotlib inline\n",
    "%config InlineBackend.figure_format = 'retina'\n",
    "\n",
    "# Various settings\n",
    "warnings.filterwarnings(\"ignore\")\n",
    "np.set_printoptions(precision=4)\n",
    "sns.set_theme()\n",
    "pd.set_option(\"display.max_rows\", 120)\n",
    "pd.set_option(\"display.max_colwidth\", 40)\n",
    "pd.set_option(\"display.precision\", 4)\n",
    "pd.set_option(\"display.max_columns\", None)"
   ]
  },
  {
   "cell_type": "markdown",
   "id": "da004035-7f86-4eaf-ba5b-f529351e89cd",
   "metadata": {},
   "source": [
    "## Loading Datasets"
   ]
  },
  {
   "cell_type": "markdown",
   "id": "8eff31ad-2cca-4b80-9e4e-cdac17b44b59",
   "metadata": {},
   "source": [
    "We will leave aside pixar people dataset because its presence complicates the preprocessing and analysis tasks."
   ]
  },
  {
   "cell_type": "code",
   "execution_count": null,
   "id": "08c96cf4-b7dc-4a89-ac7b-e8fbd7ee373b",
   "metadata": {},
   "outputs": [],
   "source": [
    "from pixarfilms import load_dataset"
   ]
  },
  {
   "cell_type": "code",
   "execution_count": null,
   "id": "0f0c2e00-6daa-4e4d-a6e1-ae869495055c",
   "metadata": {},
   "outputs": [],
   "source": [
    "names = (\"academy\", \"genres\", \"films\", \"public_response\", \"box_office\")\n",
    "pixar_datasets = {name: load_dataset(name, cache=True) for name in names}"
   ]
  },
  {
   "cell_type": "markdown",
   "id": "ddfb9788-928f-4c60-8bc9-252f59e1bbc9",
   "metadata": {},
   "source": [
    "## Merging and Wrangling"
   ]
  },
  {
   "cell_type": "code",
   "execution_count": null,
   "id": "9b3b4795-107d-4a27-a92b-08804bce91d4",
   "metadata": {},
   "outputs": [],
   "source": [
    "pixar_datasets[\"films\"].rename(columns={\"plot\": \"scenario\"}, inplace=True)\n",
    "\n",
    "merged_df = pixar_datasets[\"films\"].merge(\n",
    "    pixar_datasets[\"public_response\"], on=\"film\", how=\"left\"\n",
    ")\n",
    "\n",
    "merged_df = merged_df.merge(pixar_datasets[\"box_office\"], on=\"film\", how=\"left\")\n",
    "\n",
    "genres_aggregated = (\n",
    "    pixar_datasets[\"genres\"]\n",
    "    .groupby(\"film\")[\"value\"]\n",
    "    .apply(lambda x: \", \".join(x))\n",
    "    .reset_index()\n",
    ")\n",
    "genres_aggregated.rename(columns={\"value\": \"genres\"}, inplace=True)\n",
    "merged_df = merged_df.merge(genres_aggregated, on=\"film\", how=\"left\")\n",
    "\n",
    "# We will only extract all wins and nominations\n",
    "award_counts = (\n",
    "    pixar_datasets[\"academy\"]\n",
    "    .groupby([\"film\", \"status\"])\n",
    "    .size()\n",
    "    .unstack(fill_value=0)\n",
    "    .reset_index()\n",
    ")\n",
    "award_counts = award_counts[[\"film\", \"Nominated\", \"Won\", \"Won Special Achievement\"]]\n",
    "award_counts[\"n_wins\"] = award_counts[\"Won\"] + award_counts[\"Won Special Achievement\"]\n",
    "award_counts.drop(columns=[\"Won\", \"Won Special Achievement\"], inplace=True)\n",
    "award_counts.rename(columns={\"Nominated\": \"n_nominations\"}, inplace=True)\n",
    "\n",
    "pixar = merged_df.merge(award_counts, on=\"film\", how=\"left\")"
   ]
  },
  {
   "cell_type": "code",
   "execution_count": null,
   "id": "c1e1ed4c-6705-4f57-b93f-d73c4646b372",
   "metadata": {},
   "outputs": [],
   "source": [
    "pixar.head()"
   ]
  },
  {
   "cell_type": "markdown",
   "id": "9fd8670e-f70e-4ba1-a2f2-b6a2ae181d21",
   "metadata": {},
   "source": [
    "## Missing Data Imputation"
   ]
  },
  {
   "cell_type": "code",
   "execution_count": null,
   "id": "12d19aff-15c7-48e8-9ac5-2e4feb62352d",
   "metadata": {},
   "outputs": [],
   "source": [
    "msno.matrix(pixar, fontsize=20, sparkline=False, figsize=(8, 4))\n",
    "plt.show()"
   ]
  },
  {
   "cell_type": "markdown",
   "id": "5d9ec016-df35-40d0-af42-d73fdac77b91",
   "metadata": {},
   "source": [
    "There are two columns with missing values: `cinema_score` and `budget`."
   ]
  },
  {
   "cell_type": "code",
   "execution_count": null,
   "id": "3f449c6d-7caa-422b-9365-be1b473e3112",
   "metadata": {},
   "outputs": [],
   "source": [
    "pixar.loc[pixar.cinema_score.isna(), [\"film\"]]"
   ]
  },
  {
   "cell_type": "code",
   "execution_count": null,
   "id": "326153f2-2ca5-4073-a39e-5b705275918f",
   "metadata": {},
   "outputs": [],
   "source": [
    "pixar.loc[pixar.budget.isna(), [\"film\"]]"
   ]
  },
  {
   "cell_type": "markdown",
   "id": "0a4ce6ca-d3df-4531-91d8-991546209d1b",
   "metadata": {},
   "source": [
    "It would be easy to ignore them but imputing these values should be quite accessible.\n",
    "\n",
    "**Budget**:<br>\n",
    "For Luca, a budget estimate of 120-160 million can be reasonably added based on IMDb and expert estimates from various forums. We can use the lower bound of the range for now.\n",
    "\n",
    "**CinemaScore**:<br>\n",
    "Luca, Soul, and Turning Red did not receive official Cinema score grades because these films were released directly to Disney+ during the COVID-19 pandemic. While we don't have their Cinema score data, we can note that these films were generally well-received by audiences:\n",
    "- _Turning Red_ has an IMDb rating of 6.9 out of 10.\n",
    "- _Luca_ has an IMDb rating of 7.4 out of 10.\n",
    "- _Soul_ has an IMDb rating of 8.0 out of 10.\n",
    "\n",
    "Thus it's possible to impute them based on IMDb audience scores as proxy for audience reception."
   ]
  },
  {
   "cell_type": "code",
   "execution_count": null,
   "id": "b7df1df0-6e2b-47b4-9537-89e8d08c02ce",
   "metadata": {},
   "outputs": [],
   "source": [
    "imputed_pixar = pixar.copy()"
   ]
  },
  {
   "cell_type": "code",
   "execution_count": null,
   "id": "107dc8de-25df-4576-b726-b880285b931b",
   "metadata": {},
   "outputs": [],
   "source": [
    "# Adjust the budget for \"Luca\"\n",
    "imputed_pixar.loc[imputed_pixar[\"film\"] == \"Luca\", \"budget\"] = 120_000_000\n",
    "\n",
    "# Impute cinema score ratings\n",
    "# We can map the score like this:\n",
    "# > Turning Red = 6.9 => A-\n",
    "# > Luca = 7.4 => A-\n",
    "# > Soul = 8 => A\n",
    "cinema_score_imputations = {\n",
    "    \"Turning Red\": \"A-\",\n",
    "    \"Luca\": \"A-\",\n",
    "    \"Soul\": \"A\"\n",
    "}\n",
    "\n",
    "for film, score in cinema_score_imputations.items():\n",
    "    imputed_pixar.loc[imputed_pixar[\"film\"] == film, \"cinema_score\"] = score"
   ]
  },
  {
   "cell_type": "markdown",
   "id": "2b92fd90-78a2-44a8-8e8e-b52c17fa9dbf",
   "metadata": {},
   "source": [
    "## Pixar Data Analysis"
   ]
  },
  {
   "cell_type": "code",
   "execution_count": null,
   "id": "6b980dd5-9829-403b-9ee4-c2d7ec51ec38",
   "metadata": {},
   "outputs": [],
   "source": [
    "df = imputed_pixar.copy()"
   ]
  },
  {
   "cell_type": "markdown",
   "id": "6a8c8198-a810-4f9a-8b9a-a60a7f3149b2",
   "metadata": {},
   "source": [
    "### Performance Over Time"
   ]
  },
  {
   "cell_type": "markdown",
   "id": "434f1811-3fda-4971-ba9b-5ffc86c1381e",
   "metadata": {},
   "source": [
    "#### Two-panel: Box Office & Market Trend"
   ]
  },
  {
   "cell_type": "markdown",
   "id": "e9007961-3aed-4656-b444-247fbd619a47",
   "metadata": {},
   "source": [
    "The figure consists of two panels:\n",
    "- The top panel shows stacked bar charts for US/Canada and international box office revenues (in millions USD) along with a trend line for the total revenue.\n",
    "- The bottom panel displays an area chart representing the evolution of domestic and international market share percentages."
   ]
  },
  {
   "cell_type": "code",
   "execution_count": null,
   "id": "87f66568-6b9a-496e-980c-705f2e254d07",
   "metadata": {},
   "outputs": [],
   "source": [
    "def plot_pixar_films_performance(df: pd.DataFrame) -> go.Figure:\n",
    "    \"\"\"\n",
    "    Generate an interactive Plotly figure that visualizes Pixar films' box office performance and \n",
    "    market split evolution over time.\n",
    "    \"\"\"\n",
    "    # Calculate total revenue (in millions) and percentage splits\n",
    "    df[\"total_revenue\"] = df[\"box_office_worldwide\"] / 1e6\n",
    "    df[\"domestic_pct\"] = df[\"box_office_us_canada\"] / df[\"box_office_worldwide\"] * 100\n",
    "    df[\"international_pct\"] = df[\"box_office_other\"] / df[\"box_office_worldwide\"] * 100\n",
    "\n",
    "    # Create a subplot with two rows: Box Office and Market Split Evolution\n",
    "    fig = make_subplots(\n",
    "        rows=2,\n",
    "        cols=1,\n",
    "        row_heights=[0.7, 0.3],\n",
    "        vertical_spacing=0.1,\n",
    "        subplot_titles=(\"Box Office Performance\", \"Market Split Evolution\"),\n",
    "    )\n",
    "\n",
    "    # Top Panel: Box Office Performance\n",
    "    # Domestic revenue bar chart\n",
    "    fig.add_trace(\n",
    "        go.Bar(\n",
    "            name=\"US/Canada\",\n",
    "            x=df[\"release_date\"],\n",
    "            y=df[\"box_office_us_canada\"] / 1e6,\n",
    "            marker_color=\"#FF9999\",\n",
    "            hovertemplate=(\n",
    "                \"<b>%{text}</b><br>\"\n",
    "                \"US/Canada: $%{y:.0f}M<br>\"\n",
    "                \"Release: %{x|%B %Y}<br>\"\n",
    "                \"<extra></extra>\"\n",
    "            ),\n",
    "            text=df[\"film\"],\n",
    "        ),\n",
    "        row=1,\n",
    "        col=1,\n",
    "    )\n",
    "\n",
    "    # International revenue bar chart\n",
    "    fig.add_trace(\n",
    "        go.Bar(\n",
    "            name=\"International\",\n",
    "            x=df[\"release_date\"],\n",
    "            y=df[\"box_office_other\"] / 1e6,\n",
    "            marker_color=\"#66B2FF\",\n",
    "            hovertemplate=(\n",
    "                \"<b>%{text}</b><br>\"\n",
    "                \"International: $%{y:.0f}M<br>\"\n",
    "                \"Release: %{x|%B %Y}<br>\"\n",
    "                \"Rotten Tomatoes: %{customdata}%<extra></extra>\"\n",
    "            ),\n",
    "            text=df[\"film\"],\n",
    "            customdata=df[\"rotten_tomatoes_score\"],\n",
    "        ),\n",
    "        row=1,\n",
    "        col=1,\n",
    "    )\n",
    "\n",
    "    # Trend line for total revenue (3-film rolling average)\n",
    "    fig.add_trace(\n",
    "        go.Scatter(\n",
    "            name=\"Total Revenue Trend\",\n",
    "            x=df[\"release_date\"],\n",
    "            y=df[\"total_revenue\"].rolling(window=3, min_periods=1).mean(),\n",
    "            line=dict(color=\"#2E4053\", dash=\"dot\"),\n",
    "            hovertemplate=\"Trend: $%{y:.0f}M<extra></extra>\",\n",
    "        ),\n",
    "        row=1,\n",
    "        col=1,\n",
    "    )\n",
    "\n",
    "    # Bottom Panel: Market Split Evolution\n",
    "    # International market share area chart\n",
    "    fig.add_trace(\n",
    "        go.Scatter(\n",
    "            name=\"International %\",\n",
    "            x=df[\"release_date\"],\n",
    "            y=df[\"international_pct\"],\n",
    "            mode=\"lines\",\n",
    "            fill=\"tonexty\",\n",
    "            line=dict(width=0.5),\n",
    "            fillcolor=\"rgba(102, 178, 255, 0.5)\",\n",
    "            hovertemplate=\"International: %{y:.1f}%<extra></extra>\",\n",
    "        ),\n",
    "        row=2,\n",
    "        col=1,\n",
    "    )\n",
    "\n",
    "    # Domestic market share area chart\n",
    "    fig.add_trace(\n",
    "        go.Scatter(\n",
    "            name=\"Domestic %\",\n",
    "            x=df[\"release_date\"],\n",
    "            y=df[\"domestic_pct\"],\n",
    "            mode=\"lines\",\n",
    "            fill=\"tozeroy\",\n",
    "            line=dict(width=0.5),\n",
    "            fillcolor=\"rgba(255, 153, 153, 0.5)\",\n",
    "            hovertemplate=\"Domestic: %{y:.1f}%<extra></extra>\",\n",
    "        ),\n",
    "        row=2,\n",
    "        col=1,\n",
    "    )\n",
    "\n",
    "    fig.update_layout(\n",
    "        title={\n",
    "            \"text\": \"Pixar Films: Box Office Performance and Market Distribution (1995-2024)\",\n",
    "            \"y\": 0.95,\n",
    "            \"x\": 0.5,\n",
    "            \"xanchor\": \"center\",\n",
    "            \"yanchor\": \"top\",\n",
    "            \"font\": {\"size\": 24},\n",
    "        },\n",
    "        barmode=\"stack\",\n",
    "        plot_bgcolor=\"white\",\n",
    "        width=1200,\n",
    "        height=900,\n",
    "        showlegend=True,\n",
    "        legend={\"yanchor\": \"top\", \"y\": 0.99, \"xanchor\": \"left\", \"x\": 0.01},\n",
    "    )\n",
    "\n",
    "    fig.update_xaxes(\n",
    "        showline=True, linewidth=1, linecolor=\"lightgray\", mirror=True\n",
    "    )\n",
    "    fig.update_yaxes(\n",
    "        showline=True, linewidth=1, linecolor=\"lightgray\", mirror=True\n",
    "    )\n",
    "\n",
    "    fig.update_yaxes(title_text=\"Box Office Revenue (Millions USD)\", row=1, col=1)\n",
    "    fig.update_yaxes(title_text=\"Market Share (%)\", row=2, col=1)\n",
    "\n",
    "    return fig"
   ]
  },
  {
   "cell_type": "code",
   "execution_count": null,
   "id": "d926b186-5a92-4327-8223-4c7877d235fb",
   "metadata": {},
   "outputs": [],
   "source": [
    "plot_pixar_films_performance(df)"
   ]
  },
  {
   "cell_type": "markdown",
   "id": "87e7d221-d704-47e8-81da-0c63538c48b3",
   "metadata": {},
   "source": [
    "#### Two-Panel: Rating Over Time & Score Distribution"
   ]
  },
  {
   "cell_type": "code",
   "execution_count": null,
   "id": "59374053-f309-4209-86fd-75be2e89ca96",
   "metadata": {},
   "outputs": [],
   "source": [
    "def plot_critical_reception(df: pd.DataFrame) -> go.Figure:\n",
    "    \"\"\"\n",
    "    Generate an interactive Plotly figure that analyzes the critical reception of Pixar films over time.\n",
    "    \"\"\"\n",
    "    # Scale IMDB score\n",
    "    df[\"imdb_score_100\"] = df[\"imdb_score\"] * 10\n",
    "\n",
    "    # Compute average score across rating systems\n",
    "    df[\"avg_score\"] = df[\n",
    "        [\"rotten_tomatoes_score\", \"imdb_score_100\", \"metacritic_score\"]\n",
    "    ].mean(axis=1)\n",
    "\n",
    "    # Identify the top 3 and lowest 3 films based on average score\n",
    "    top_films = df.nlargest(3, \"avg_score\")\n",
    "    lowest_films = df.nsmallest(3, \"avg_score\")\n",
    "\n",
    "    # Create subplots\n",
    "    fig = make_subplots(\n",
    "        rows=2,\n",
    "        cols=1,\n",
    "        row_heights=[0.7, 0.3],\n",
    "        vertical_spacing=0.15,\n",
    "        subplot_titles=(\"Critical Reception Over Time\", \"Rating Distribution\"),\n",
    "    )\n",
    "\n",
    "    # Define properties for each rating system\n",
    "    rating_systems = {\n",
    "        \"Rotten Tomatoes\": {\n",
    "            \"color\": \"#FF2020\",\n",
    "            \"scores\": \"rotten_tomatoes_score\",\n",
    "            \"counts\": \"rotten_tomatoes_counts\",\n",
    "        },\n",
    "        \"IMDB\": {\n",
    "            \"color\": \"#F5C518\",\n",
    "            \"scores\": \"imdb_score_100\",\n",
    "            \"counts\": \"imdb_counts\",\n",
    "        },\n",
    "        \"Metacritic\": {\n",
    "            \"color\": \"#001D3D\",\n",
    "            \"scores\": \"metacritic_score\",\n",
    "            \"counts\": \"metacritic_counts\",\n",
    "        },\n",
    "    }\n",
    "\n",
    "    # Add traces for each rating system \n",
    "    for name, info in rating_systems.items():\n",
    "        fig.add_trace(\n",
    "            go.Scatter(\n",
    "                name=name,\n",
    "                x=df[\"release_date\"],\n",
    "                y=df[info[\"scores\"]],\n",
    "                mode=\"lines+markers\",\n",
    "                line=dict(color=info[\"color\"], width=2),\n",
    "                marker=dict(\n",
    "                    size=(df[info[\"counts\"]] / df[info[\"counts\"]].max() * 20) + 5,\n",
    "                    opacity=0.7,\n",
    "                ),\n",
    "                hovertemplate=(\n",
    "                    \"<b>%{text}</b><br>\"\n",
    "                    f\"{name}: %{{y:.1f}}/100<br>\"\n",
    "                    \"Reviews: %{customdata:,}<br>\"\n",
    "                    \"Release: %{x|%B %Y}<extra></extra>\"\n",
    "                ),\n",
    "                text=df[\"film\"],\n",
    "                customdata=df[info[\"counts\"]],\n",
    "            ),\n",
    "            row=1,\n",
    "            col=1,\n",
    "        )\n",
    "\n",
    "    # Add a 3-film rolling average trend line\n",
    "    fig.add_trace(\n",
    "        go.Scatter(\n",
    "            name=\"3-Film Rolling Average\",\n",
    "            x=df[\"release_date\"],\n",
    "            y=df[\"avg_score\"].rolling(window=3, center=True).mean(),\n",
    "            mode=\"lines\",\n",
    "            line=dict(color=\"#2ECC71\", width=2, dash=\"dash\"),\n",
    "            hovertemplate=\"Average Rating: %{y:.1f}/100<extra></extra>\",\n",
    "        ),\n",
    "        row=1,\n",
    "        col=1,\n",
    "    )\n",
    "\n",
    "    # Add box plots for each rating system\n",
    "    for name, info in rating_systems.items():\n",
    "        fig.add_trace(\n",
    "            go.Box(\n",
    "                name=name,\n",
    "                y=df[info[\"scores\"]],\n",
    "                boxpoints=\"all\",\n",
    "                jitter=0.3,\n",
    "                pointpos=-1.8,\n",
    "                marker_color=info[\"color\"],\n",
    "                showlegend=False,\n",
    "            ),\n",
    "            row=2,\n",
    "            col=1,\n",
    "        )\n",
    "\n",
    "    fig.update_layout(\n",
    "        title={\n",
    "            \"text\": \"Pixar Films: Critical Reception Analysis (1995-2024)\",\n",
    "            \"y\": 0.95,\n",
    "            \"x\": 0.5,\n",
    "            \"xanchor\": \"center\",\n",
    "            \"yanchor\": \"top\",\n",
    "            \"font\": {\"size\": 24},\n",
    "        },\n",
    "        plot_bgcolor=\"white\",\n",
    "        width=1200,\n",
    "        height=900,\n",
    "        showlegend=True,\n",
    "        legend={\"yanchor\": \"top\", \"y\": 0.95, \"xanchor\": \"right\", \"x\": 0.99},\n",
    "    )\n",
    "\n",
    "    fig.update_xaxes(showline=True, linewidth=1, linecolor=\"lightgray\", mirror=True)\n",
    "    fig.update_yaxes(showline=True, linewidth=1, linecolor=\"lightgray\", mirror=True)\n",
    "\n",
    "    fig.update_yaxes(title_text=\"Rating (0-100 Scale)\", range=[50, 100], row=1, col=1)\n",
    "    fig.update_yaxes(title_text=\"Score Distribution\", range=[50, 100], row=2, col=1)\n",
    "\n",
    "    for film in pd.concat([top_films.head(1), lowest_films.head(1)]).itertuples():\n",
    "        fig.add_annotation(\n",
    "            x=film.release_date,\n",
    "            y=film.avg_score,\n",
    "            text=f\"{film.film}<br>({film.avg_score:.1f}/100)\",\n",
    "            showarrow=True,\n",
    "            arrowhead=1,\n",
    "            ax=0,\n",
    "            ay=-40,\n",
    "        )\n",
    "\n",
    "    return fig"
   ]
  },
  {
   "cell_type": "code",
   "execution_count": null,
   "id": "33eaac47-fefb-431a-bd11-c86f6542f56a",
   "metadata": {},
   "outputs": [],
   "source": [
    "plot_critical_reception(df)"
   ]
  },
  {
   "cell_type": "markdown",
   "id": "0fe60a73-b28f-486b-be5c-53cf3b1fc3cc",
   "metadata": {},
   "source": [
    "### IMDB Rating Prediction"
   ]
  },
  {
   "cell_type": "markdown",
   "id": "4209d55f-0d33-4940-9425-0eeaffa24cde",
   "metadata": {},
   "source": [
    "We can try to see whether pixar movie information can be associated with IMDB rating. For that we can frame this problem as a regression task."
   ]
  },
  {
   "cell_type": "code",
   "execution_count": null,
   "id": "ee6152e9-ed28-4cdb-92bf-cd7c75e4d6f9",
   "metadata": {},
   "outputs": [],
   "source": [
    "from sklearn.metrics import r2_score, root_mean_squared_error\n",
    "from sklearn.linear_model import LinearRegression\n",
    "from sklearn.preprocessing import StandardScaler, OneHotEncoder\n",
    "from sklearn.compose import ColumnTransformer\n",
    "from sklearn.pipeline import Pipeline"
   ]
  },
  {
   "cell_type": "markdown",
   "id": "388a96c4-5e8c-4750-b7a0-af679ca6eae3",
   "metadata": {},
   "source": [
    "#### Regression Analysis of IMDB Score"
   ]
  },
  {
   "cell_type": "code",
   "execution_count": null,
   "id": "392415fc-677d-4e17-a895-9051ceee4bd7",
   "metadata": {},
   "outputs": [],
   "source": [
    "# Some feature extraction from release_date\n",
    "df[\"year_release\"] = pd.to_datetime(df[\"release_date\"]).dt.year\n",
    "\n",
    "# Prepare features\n",
    "numeric_features = [\n",
    "    \"run_time\",\n",
    "    \"box_office_worldwide\",\n",
    "    \"budget\",\n",
    "    \"n_nominations\",\n",
    "    \"n_wins\",\n",
    "]\n",
    "\n",
    "categorical_features = [\n",
    "    \"year_release\", \n",
    "] \n",
    "\n",
    "X = df[numeric_features + categorical_features]\n",
    "y = df[\"imdb_score\"]\n",
    "\n",
    "numeric_transformer = Pipeline(steps=[(\"scaler\", StandardScaler())])\n",
    "\n",
    "categorical_transformer = Pipeline(steps=[\n",
    "    (\"onehot\", OneHotEncoder(drop=\"if_binary\", sparse_output=False, handle_unknown=\"ignore\"))\n",
    "])\n",
    "\n",
    "preprocessor = ColumnTransformer(\n",
    "    transformers=[\n",
    "        (\"num\", numeric_transformer, numeric_features),\n",
    "        (\"cat\", categorical_transformer, categorical_features),\n",
    "    ]\n",
    ")\n",
    "\n",
    "# Create full pipeline\n",
    "model = Pipeline([(\"preprocessor\", preprocessor), (\"regressor\", LinearRegression())])\n",
    "model.fit(X, y)\n",
    "\n",
    "# Create coefficient table\n",
    "feature_names = numeric_features + [\n",
    "    f\"{cat}\"\n",
    "    for cat in model.named_steps[\"preprocessor\"]\n",
    "    .named_transformers_[\"cat\"]\n",
    "    .named_steps[\"onehot\"]\n",
    "    .get_feature_names_out()\n",
    "]\n",
    "\n",
    "coefficients = pd.DataFrame(\n",
    "    {\"Feature\": feature_names, \"Coefficient\": model.named_steps[\"regressor\"].coef_}\n",
    ")\n",
    "\n",
    "result = (\n",
    "    coefficients\n",
    "    .sort_values(by=\"Coefficient\", ascending=False)\n",
    "    .reset_index(drop=True)\n",
    ")\n",
    "\n",
    "# Compute Regression metrics\n",
    "y_pred = model.predict(X)\n",
    "r2 = r2_score(y, y_pred)\n",
    "rmse = root_mean_squared_error(y, y_pred)"
   ]
  },
  {
   "cell_type": "markdown",
   "id": "071c52b9-afdb-48b9-a8f4-5f57cd67cca6",
   "metadata": {},
   "source": [
    "#### Model Results"
   ]
  },
  {
   "cell_type": "code",
   "execution_count": null,
   "id": "a0de9ce4-5df0-4063-9ee9-de5705a2f470",
   "metadata": {},
   "outputs": [],
   "source": [
    "print(\"Model Results:\\n\")\n",
    "print(\"R-squared:\", round(r2, 3))\n",
    "print(\"RMSE:\", f\"${rmse}\")\n",
    "print(\"\\nCoefficients:\")\n",
    "result"
   ]
  },
  {
   "cell_type": "code",
   "execution_count": null,
   "id": "49666095-e518-4a21-aa18-8ca8775361ae",
   "metadata": {},
   "outputs": [],
   "source": [
    "# Error distribution\n",
    "errors = (y_pred - y)\n",
    "sns.kdeplot(errors);"
   ]
  },
  {
   "cell_type": "code",
   "execution_count": null,
   "id": "1ee5df68-a6a9-4b5e-b934-f48fa4653434",
   "metadata": {},
   "outputs": [],
   "source": []
  },
  {
   "cell_type": "code",
   "execution_count": null,
   "id": "e318de7d-ee16-4486-98fe-65c0ba0194e6",
   "metadata": {},
   "outputs": [],
   "source": []
  },
  {
   "cell_type": "code",
   "execution_count": null,
   "id": "fff83550-e6e0-46cd-a174-4cabe3895427",
   "metadata": {},
   "outputs": [],
   "source": []
  }
 ],
 "metadata": {
  "kernelspec": {
   "display_name": "Python 3 (ipykernel)",
   "language": "python",
   "name": "python3"
  },
  "language_info": {
   "codemirror_mode": {
    "name": "ipython",
    "version": 3
   },
   "file_extension": ".py",
   "mimetype": "text/x-python",
   "name": "python",
   "nbconvert_exporter": "python",
   "pygments_lexer": "ipython3",
   "version": "3.11.11"
  }
 },
 "nbformat": 4,
 "nbformat_minor": 5
}
